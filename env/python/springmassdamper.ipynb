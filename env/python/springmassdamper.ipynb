{
 "cells": [
  {
   "cell_type": "code",
   "execution_count": 1,
   "metadata": {},
   "outputs": [],
   "source": [
    "%matplotlib inline\n",
    "import importlib, mozpy, logging, sys\n",
    "import matplotlib.pyplot as plt"
   ]
  },
  {
   "cell_type": "code",
   "execution_count": 2,
   "metadata": {},
   "outputs": [],
   "source": [
    "importlib.reload(mozpy)\n",
    "logging.basicConfig(stream = sys.stderr, level = logging.INFO)"
   ]
  },
  {
   "cell_type": "code",
   "execution_count": 3,
   "metadata": {},
   "outputs": [
    {
     "name": "stdout",
     "output_type": "stream",
     "text": [
      "include GRAPHSIMCLI\r\n",
      "\r\n",
      "def p1, p2: Point\r\n",
      "def d, k, m, t: Real\r\n",
      "def u: Force\r\n",
      "def y: Position\r\n",
      "\r\n",
      "def system = Spring1d(-k) || Damper1d(-d) || Mass1d(m)\r\n",
      "\r\n",
      "def model = {\r\n",
      "  param d 2.0;\r\n",
      "  param k 3.0;\r\n",
      "  param m 4.0;\r\n",
      "  probe y;\r\n",
      "\r\n",
      "  Clock(0., t);\r\n",
      "  u = -m * GRAVITATIONAL_CONSTANT;\r\n",
      "  // u = sin(t);\r\n",
      "  p1 -- system -- p2;\r\n",
      "  p1 -- (ForceActuator1d(u) || PositionSensor1d(-y)) -- p2\r\n",
      "}\r\n",
      "\r\n",
      "def main = (export2ModelicaCLI model)\r\n"
     ]
    }
   ],
   "source": [
    "# %cat ./springmassdamper.moz\n",
    "%cat ./springmassdamper_eoo.moz"
   ]
  },
  {
   "cell_type": "code",
   "execution_count": 4,
   "metadata": {},
   "outputs": [],
   "source": [
    "# model = mozpy.Model(\"./springmassdamper.moz\", \"python ../../docker_moz.py\")\n",
    "# model = mozpy.Model(\"./springmassdamper.moz\")\n",
    "model = mozpy.Model(\"./springmassdamper_eoo.moz\")"
   ]
  },
  {
   "cell_type": "code",
   "execution_count": 5,
   "metadata": {},
   "outputs": [
    {
     "name": "stderr",
     "output_type": "stream",
     "text": [
      "2019-10-23 11:50:16,394 - OMPython - INFO - OMC Server is up and running at file:////tmp/openmodelica.oerikss.port.ed84b750dc2345a2ae4f4941685cd323 pid=2179\n",
      "INFO:OMPython:OMC Server is up and running at file:////tmp/openmodelica.oerikss.port.ed84b750dc2345a2ae4f4941685cd323 pid=2179\n"
     ]
    },
    {
     "data": {
      "text/plain": [
       "<mozpy.Model at 0x7fd4297c5c18>"
      ]
     },
     "execution_count": 5,
     "metadata": {},
     "output_type": "execute_result"
    }
   ],
   "source": [
    "model.elaborate().set_parameters(d_1=2.5, k_1=14).simulate(start_time=0, stop_time=20, step_size=0.1)"
   ]
  },
  {
   "cell_type": "code",
   "execution_count": 6,
   "metadata": {},
   "outputs": [
    {
     "name": "stdout",
     "output_type": "stream",
     "text": [
      "model Model\n",
      " parameter Real m_1 = 4.;\n",
      " parameter Real k_1 = 3.;\n",
      " parameter Real d_1 = 2.;\n",
      "protected\n",
      " Real F_K_1 annotation(HideResult=true);\n",
      " Real x_K_1 annotation(HideResult=true);\n",
      " Real v_D_1 annotation(HideResult=true);\n",
      " Real F_D_1 annotation(HideResult=true);\n",
      " Real x_D_1 annotation(HideResult=true);\n",
      " Real v_M_1 annotation(HideResult=true);\n",
      " Real F_M_1 annotation(HideResult=true);\n",
      " Real x_M_1 annotation(HideResult=true);\n",
      " Real x_A_1 annotation(HideResult=true);\n",
      " Real x_S_1 annotation(HideResult=true);\n",
      " Real y_1 annotation(HideResult=false);\n",
      " Real u_1 annotation(HideResult=true);\n",
      " Real t_1 (start=0., fixed=true) annotation(HideResult=true);\n",
      "initial equation\n",
      "equation\n",
      " der(t_1) = 1.;\n",
      " u_1 = (-m_1) * 9.81;\n",
      " F_K_1 = (-(-k_1)) * x_K_1;\n",
      " der(x_D_1) = v_D_1;\n",
      " F_D_1 = (-(-d_1)) * v_D_1;\n",
      " der(x_M_1) = v_M_1;\n",
      " F_M_1 = m_1 * der(v_M_1);\n",
      " x_S_1 = (-y_1);\n",
      " x_A_1 = 1. * x_S_1;\n",
      " x_M_1 = 1. * x_S_1;\n",
      " x_D_1 = 1. * x_S_1;\n",
      " x_K_1 = 1. * x_S_1;\n",
      " 0. = ((((-1.) * F_K_1 - 1. * F_D_1) - 1. * F_M_1) - 1. * u_1);\n",
      "end Model;\n",
      "\n",
      "\n"
     ]
    }
   ],
   "source": [
    "print(model.model)"
   ]
  },
  {
   "cell_type": "code",
   "execution_count": 7,
   "metadata": {},
   "outputs": [
    {
     "data": {
      "text/plain": [
       "{'d_1': 2.5, 'k_1': 14.0, 'm_1': 4.0}"
      ]
     },
     "execution_count": 7,
     "metadata": {},
     "output_type": "execute_result"
    }
   ],
   "source": [
    "model.get_parameters()"
   ]
  },
  {
   "cell_type": "code",
   "execution_count": 8,
   "metadata": {},
   "outputs": [
    {
     "data": {
      "text/plain": [
       "('d_1', 'k_1', 'm_1', 'time', 'x_D_1', 'y_1')"
      ]
     },
     "execution_count": 8,
     "metadata": {},
     "output_type": "execute_result"
    }
   ],
   "source": [
    "model.get_solved_variables()"
   ]
  },
  {
   "cell_type": "code",
   "execution_count": 9,
   "metadata": {},
   "outputs": [],
   "source": [
    "tt = model.get_solutions(\"time\")"
   ]
  },
  {
   "cell_type": "code",
   "execution_count": 10,
   "metadata": {},
   "outputs": [],
   "source": [
    "yy = model.get_solutions(\"y_1\")"
   ]
  },
  {
   "cell_type": "code",
   "execution_count": 11,
   "metadata": {},
   "outputs": [
    {
     "data": {
      "text/plain": [
       "[<matplotlib.lines.Line2D at 0x7fd435cc2780>]"
      ]
     },
     "execution_count": 11,
     "metadata": {},
     "output_type": "execute_result"
    },
    {
     "data": {
      "image/png": "[encoded data removed]",
      "text/plain": [
       "<Figure size 432x288 with 1 Axes>"
      ]
     },
     "metadata": {
      "needs_background": "light"
     },
     "output_type": "display_data"
    }
   ],
   "source": [
    "plt.plot(tt, yy)"
   ]
  },
  {
   "cell_type": "code",
   "execution_count": 12,
   "metadata": {},
   "outputs": [],
   "source": [
    "# model.get_solutions([\"t_1\", \"y_1\"])"
   ]
  },
  {
   "cell_type": "code",
   "execution_count": 13,
   "metadata": {},
   "outputs": [
    {
     "data": {
      "image/png": "[encoded data removed]",
      "text/plain": [
       "<Figure size 432x288 with 1 Axes>"
      ]
     },
     "metadata": {
      "needs_background": "light"
     },
     "output_type": "display_data"
    }
   ],
   "source": [
    "for d in [5, 10, 15]:\n",
    "    model.set_parameters(d_1=d)\n",
    "    model.simulate(step_size=0.1)\n",
    "    tt = model.get_solutions(\"time\")\n",
    "    yy = model.get_solutions(\"y_1\")\n",
    "    plt.plot(tt, yy, label=f\"d={d}\")\n",
    "plt.legend()\n",
    "plt.show()"
   ]
  },
  {
   "cell_type": "code",
   "execution_count": null,
   "metadata": {},
   "outputs": [],
   "source": []
  }
 ],
 "metadata": {
  "file_extension": ".py",
  "kernelspec": {
   "display_name": "Python 3",
   "language": "python",
   "name": "python3"
  },
  "language_info": {
   "codemirror_mode": {
    "name": "ipython",
    "version": 3
   },
   "file_extension": ".py",
   "mimetype": "text/x-python",
   "name": "python",
   "nbconvert_exporter": "python",
   "pygments_lexer": "ipython3",
   "version": "3.6.8"
  },
  "mimetype": "text/x-python",
  "name": "python",
  "npconvert_exporter": "python",
  "pygments_lexer": "ipython3",
  "version": 3
 },
 "nbformat": 4,
 "nbformat_minor": 2
}
