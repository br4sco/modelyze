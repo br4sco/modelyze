{
 "cells": [
  {
   "cell_type": "code",
   "execution_count": 1,
   "metadata": {},
   "outputs": [],
   "source": [
    "%matplotlib inline\n",
    "import importlib, mozpy, logging, sys\n",
    "import matplotlib.pyplot as plt"
   ]
  },
  {
   "cell_type": "code",
   "execution_count": 2,
   "metadata": {},
   "outputs": [],
   "source": [
    "importlib.reload(mozpy)\n",
    "logging.basicConfig(stream = sys.stderr, level = logging.INFO)"
   ]
  },
  {
   "cell_type": "code",
   "execution_count": 3,
   "metadata": {},
   "outputs": [
    {
     "name": "stdout",
     "output_type": "stream",
     "text": [
      "include GRAPHSIMCLI\r\n",
      "\r\n",
      "def x1, x2, y, F, t: <Real>\r\n",
      "def k, d, m: <Real>\r\n",
      "\r\n",
      "def model = {\r\n",
      "  param k 10.;\r\n",
      "  param d 2.;\r\n",
      "  param m 3.;\r\n",
      "\r\n",
      "  // F = -m * GRAVITATIONAL_CONSTANT;\r\n",
      "  F = sin(t);\r\n",
      "  t' = 1.;\r\n",
      "\r\n",
      "  x1' = x2;\r\n",
      "  x2' = (-k / m) * x1 + (-d / m) * x2 + (F / m);\r\n",
      "  y = x1;\r\n",
      "\r\n",
      "  x1 <- 1.;\r\n",
      "  y <- 1.;\r\n",
      "  x2 <~ 0.;\r\n",
      "\r\n",
      "  probe t;\r\n",
      "  probe F;\r\n",
      "  probe y\r\n",
      "}\r\n",
      "\r\n",
      "def main = (export2ModelicaCLI model)\r\n"
     ]
    }
   ],
   "source": [
    "%cat ./springmassdamper.moz"
   ]
  },
  {
   "cell_type": "code",
   "execution_count": 4,
   "metadata": {},
   "outputs": [],
   "source": [
    "model = mozpy.Model(\"./springmassdamper.moz\", \"python ../../docker_moz.py\")\n",
    "# model = mozpy.Model(\"./springmassdamper.moz\")"
   ]
  },
  {
   "cell_type": "code",
   "execution_count": 5,
   "metadata": {},
   "outputs": [
    {
     "name": "stderr",
     "output_type": "stream",
     "text": [
      "2019-10-16 12:08:53,880 - OMPython - INFO - OMC Server is up and running at file:////tmp/openmodelica.oerikss.port.1dd33a857ea9499496431217d31bc717 pid=27256\n",
      "INFO:OMPython:OMC Server is up and running at file:////tmp/openmodelica.oerikss.port.1dd33a857ea9499496431217d31bc717 pid=27256\n"
     ]
    },
    {
     "data": {
      "text/plain": [
       "<mozpy.Model at 0x7f0cf06afba8>"
      ]
     },
     "execution_count": 5,
     "metadata": {},
     "output_type": "execute_result"
    }
   ],
   "source": [
    "model.elaborate().set_parameters(d_1 = 2.5, k_1 = 14).simulate(t0 = 0, tf = 20, h = 0.1)"
   ]
  },
  {
   "cell_type": "code",
   "execution_count": 6,
   "metadata": {},
   "outputs": [
    {
     "data": {
      "text/plain": [
       "{'d_1': 2.5, 'k_1': 14.0, 'm_1': 3.0}"
      ]
     },
     "execution_count": 6,
     "metadata": {},
     "output_type": "execute_result"
    }
   ],
   "source": [
    "model.get_parameters()"
   ]
  },
  {
   "cell_type": "code",
   "execution_count": 7,
   "metadata": {},
   "outputs": [
    {
     "data": {
      "text/plain": [
       "('F_1', 'd_1', 'der(t_1)', 'k_1', 'm_1', 't_1', 'time', 'x1_1', 'y_1')"
      ]
     },
     "execution_count": 7,
     "metadata": {},
     "output_type": "execute_result"
    }
   ],
   "source": [
    "model.get_solved_variables()"
   ]
  },
  {
   "cell_type": "code",
   "execution_count": 8,
   "metadata": {},
   "outputs": [],
   "source": [
    "tt = model.get_solutions(\"t_1\")"
   ]
  },
  {
   "cell_type": "code",
   "execution_count": 9,
   "metadata": {},
   "outputs": [],
   "source": [
    "yy = model.get_solutions(\"y_1\")"
   ]
  },
  {
   "cell_type": "code",
   "execution_count": 10,
   "metadata": {},
   "outputs": [
    {
     "data": {
      "text/plain": [
       "[<matplotlib.lines.Line2D at 0x7f0cc792b828>]"
      ]
     },
     "execution_count": 10,
     "metadata": {},
     "output_type": "execute_result"
    },
    {
     "data": {
      "image/png": "[encoded data removed]",
      "text/plain": [
       "<Figure size 432x288 with 1 Axes>"
      ]
     },
     "metadata": {
      "needs_background": "light"
     },
     "output_type": "display_data"
    }
   ],
   "source": [
    "plt.plot(tt, yy)"
   ]
  },
  {
   "cell_type": "code",
   "execution_count": 11,
   "metadata": {},
   "outputs": [
    {
     "data": {
      "text/plain": [
       "array([[ 0.00000000e+00,  1.00000000e-01,  2.00000000e-01,\n",
       "         3.00000000e-01,  4.00000000e-01,  5.00000000e-01,\n",
       "         6.00000000e-01,  7.00000000e-01,  8.00000000e-01,\n",
       "         9.00000000e-01,  1.00000000e+00,  1.10000000e+00,\n",
       "         1.20000000e+00,  1.30000000e+00,  1.40000000e+00,\n",
       "         1.50000000e+00,  1.60000000e+00,  1.70000000e+00,\n",
       "         1.80000000e+00,  1.90000000e+00,  2.00000000e+00,\n",
       "         2.10000000e+00,  2.20000000e+00,  2.30000000e+00,\n",
       "         2.40000000e+00,  2.50000000e+00,  2.60000000e+00,\n",
       "         2.70000000e+00,  2.80000000e+00,  2.90000000e+00,\n",
       "         3.00000000e+00,  3.10000000e+00,  3.20000000e+00,\n",
       "         3.30000000e+00,  3.40000000e+00,  3.50000000e+00,\n",
       "         3.60000000e+00,  3.70000000e+00,  3.80000000e+00,\n",
       "         3.90000000e+00,  4.00000000e+00,  4.10000000e+00,\n",
       "         4.20000000e+00,  4.30000000e+00,  4.40000000e+00,\n",
       "         4.50000000e+00,  4.60000000e+00,  4.70000000e+00,\n",
       "         4.80000000e+00,  4.90000000e+00,  5.00000000e+00,\n",
       "         5.10000000e+00,  5.20000000e+00,  5.30000000e+00,\n",
       "         5.40000000e+00,  5.50000000e+00,  5.60000000e+00,\n",
       "         5.70000000e+00,  5.80000000e+00,  5.90000000e+00,\n",
       "         6.00000000e+00,  6.10000000e+00,  6.20000000e+00,\n",
       "         6.30000000e+00,  6.40000000e+00,  6.50000000e+00,\n",
       "         6.60000000e+00,  6.70000000e+00,  6.80000000e+00,\n",
       "         6.90000000e+00,  7.00000000e+00,  7.10000000e+00,\n",
       "         7.20000000e+00,  7.30000000e+00,  7.40000000e+00,\n",
       "         7.50000000e+00,  7.60000000e+00,  7.70000000e+00,\n",
       "         7.80000000e+00,  7.90000000e+00,  8.00000000e+00,\n",
       "         8.10000000e+00,  8.20000000e+00,  8.30000000e+00,\n",
       "         8.40000000e+00,  8.50000000e+00,  8.60000000e+00,\n",
       "         8.70000000e+00,  8.80000000e+00,  8.90000000e+00,\n",
       "         9.00000000e+00,  9.10000000e+00,  9.20000000e+00,\n",
       "         9.30000000e+00,  9.40000000e+00,  9.50000000e+00,\n",
       "         9.60000000e+00,  9.70000000e+00,  9.80000000e+00,\n",
       "         9.90000000e+00,  1.00000000e+01,  1.01000000e+01,\n",
       "         1.02000000e+01,  1.03000000e+01,  1.04000000e+01,\n",
       "         1.05000000e+01,  1.06000000e+01,  1.07000000e+01,\n",
       "         1.08000000e+01,  1.09000000e+01,  1.10000000e+01,\n",
       "         1.11000000e+01,  1.12000000e+01,  1.13000000e+01,\n",
       "         1.14000000e+01,  1.15000000e+01,  1.16000000e+01,\n",
       "         1.17000000e+01,  1.18000000e+01,  1.19000000e+01,\n",
       "         1.20000000e+01,  1.21000000e+01,  1.22000000e+01,\n",
       "         1.23000000e+01,  1.24000000e+01,  1.25000000e+01,\n",
       "         1.26000000e+01,  1.27000000e+01,  1.28000000e+01,\n",
       "         1.29000000e+01,  1.30000000e+01,  1.31000000e+01,\n",
       "         1.32000000e+01,  1.33000000e+01,  1.34000000e+01,\n",
       "         1.35000000e+01,  1.36000000e+01,  1.37000000e+01,\n",
       "         1.38000000e+01,  1.39000000e+01,  1.40000000e+01,\n",
       "         1.41000000e+01,  1.42000000e+01,  1.43000000e+01,\n",
       "         1.44000000e+01,  1.45000000e+01,  1.46000000e+01,\n",
       "         1.47000000e+01,  1.48000000e+01,  1.49000000e+01,\n",
       "         1.50000000e+01,  1.51000000e+01,  1.52000000e+01,\n",
       "         1.53000000e+01,  1.54000000e+01,  1.55000000e+01,\n",
       "         1.56000000e+01,  1.57000000e+01,  1.58000000e+01,\n",
       "         1.59000000e+01,  1.60000000e+01,  1.61000000e+01,\n",
       "         1.62000000e+01,  1.63000000e+01,  1.64000000e+01,\n",
       "         1.65000000e+01,  1.66000000e+01,  1.67000000e+01,\n",
       "         1.68000000e+01,  1.69000000e+01,  1.70000000e+01,\n",
       "         1.71000000e+01,  1.72000000e+01,  1.73000000e+01,\n",
       "         1.74000000e+01,  1.75000000e+01,  1.76000000e+01,\n",
       "         1.77000000e+01,  1.78000000e+01,  1.79000000e+01,\n",
       "         1.80000000e+01,  1.81000000e+01,  1.82000000e+01,\n",
       "         1.83000000e+01,  1.84000000e+01,  1.85000000e+01,\n",
       "         1.86000000e+01,  1.87000000e+01,  1.88000000e+01,\n",
       "         1.89000000e+01,  1.90000000e+01,  1.91000000e+01,\n",
       "         1.92000000e+01,  1.93000000e+01,  1.94000000e+01,\n",
       "         1.95000000e+01,  1.96000000e+01,  1.97000000e+01,\n",
       "         1.98000000e+01,  1.99000000e+01,  2.00000000e+01,\n",
       "         2.00000000e+01],\n",
       "       [ 1.00000000e+00,  9.77443897e-01,  9.13415260e-01,\n",
       "         8.14401133e-01,  6.87923373e-01,  5.42117785e-01,\n",
       "         3.85319155e-01,  2.25671020e-01,  7.07748540e-02,\n",
       "        -7.26080830e-02, -1.98793456e-01, -3.03343407e-01,\n",
       "        -3.83166646e-01, -4.36550246e-01, -4.63127126e-01,\n",
       "        -4.63785819e-01, -4.40531142e-01, -3.96305903e-01,\n",
       "        -3.34784718e-01, -2.60151351e-01, -1.76870836e-01,\n",
       "        -8.94669668e-02, -2.31464456e-03,  8.05448039e-02,\n",
       "         1.55558947e-01,  2.19785599e-01,  2.70977487e-01,\n",
       "         3.07629372e-01,  3.28988490e-01,  3.35030768e-01,\n",
       "         3.26406569e-01,  3.04360820e-01,  2.70633053e-01,\n",
       "         2.27343445e-01,  1.76871002e-01,  1.21729913e-01,\n",
       "         6.44497209e-02,  7.46429742e-03, -4.69861398e-02,\n",
       "        -9.69366831e-02, -1.40760754e-01, -1.77213190e-01,\n",
       "        -2.05453084e-01, -2.25047015e-01, -2.35954106e-01,\n",
       "        -2.38495045e-01, -2.33307744e-01, -2.21292705e-01,\n",
       "        -2.03551349e-01, -1.81320627e-01, -1.55907141e-01,\n",
       "        -1.28623734e-01, -1.00731186e-01, -7.33872034e-02,\n",
       "        -4.76043714e-02, -2.42182260e-02, -3.86603889e-03,\n",
       "         1.30236142e-02,  2.62309176e-02,  3.57353624e-02,\n",
       "         4.16979916e-02,  4.44368101e-02,  4.43970474e-02,\n",
       "         4.21180341e-02,  3.81984714e-02,  3.32618043e-02,\n",
       "         2.79232647e-02,  2.27599534e-02,  1.82850837e-02,\n",
       "         1.49272848e-02,  1.30156159e-02,  1.27693969e-02,\n",
       "         1.42954174e-02,  1.75895434e-02,  2.25438941e-02,\n",
       "         2.89581809e-02,  3.65544129e-02,  4.49942836e-02,\n",
       "         5.38981336e-02,  6.28645490e-02,  7.14896591e-02,\n",
       "         7.93853558e-02,  8.61956408e-02,  9.16105585e-02,\n",
       "         9.53772600e-02,  9.73079022e-02,  9.72844454e-02,\n",
       "         9.52600380e-02,  9.12574751e-02,  8.53648841e-02,\n",
       "         7.77290463e-02,  6.85468222e-02,  5.80552451e-02,\n",
       "         4.65206449e-02,  3.42275019e-02,  2.14674387e-02,\n",
       "         8.52881630e-03, -4.31267351e-03, -1.68021690e-02,\n",
       "        -2.87122187e-02, -3.98477271e-02, -5.00491726e-02,\n",
       "        -5.91941197e-02, -6.71971336e-02, -7.40082908e-02,\n",
       "        -7.96103738e-02, -8.40151231e-02, -8.72587497e-02,\n",
       "        -8.93969939e-02, -9.05000083e-02, -9.06473053e-02,\n",
       "        -8.99229990e-02, -8.84115452e-02, -8.61941231e-02,\n",
       "        -8.33457728e-02, -7.99333432e-02, -7.60142550e-02,\n",
       "        -7.16361069e-02, -6.68370103e-02, -6.16465850e-02,\n",
       "        -5.60874996e-02, -5.01774112e-02, -4.39311705e-02,\n",
       "        -3.73631569e-02, -3.04895812e-02, -2.33306380e-02,\n",
       "        -1.59123892e-02, -8.26828984e-03, -4.40290364e-04,\n",
       "         7.52055234e-03,  1.55539535e-02,  2.35907760e-02,\n",
       "         3.15538784e-02,  3.93593776e-02,  4.69182748e-02,\n",
       "         5.41383769e-02,  6.09264116e-02,  6.71902590e-02,\n",
       "         7.28412079e-02,  7.77961529e-02,  8.19796559e-02,\n",
       "         8.53257990e-02,  8.77797741e-02,  8.92991637e-02,\n",
       "         8.98548821e-02,  8.94317707e-02,  8.80288358e-02,\n",
       "         8.56591364e-02,  8.23493573e-02,  7.81390910e-02,\n",
       "         7.30798675e-02,  6.72339874e-02,  6.06731903e-02,\n",
       "         5.34772162e-02,  4.57323077e-02,  3.75296965e-02,\n",
       "         2.89641145e-02,  2.01323631e-02,  1.11319695e-02,\n",
       "         2.05996458e-03, -6.98818288e-03, -1.59196440e-02,\n",
       "        -2.46451871e-02, -3.30794823e-02, -4.11421696e-02,\n",
       "        -4.87581515e-02, -5.58577650e-02, -6.23774678e-02,\n",
       "        -6.82597976e-02, -7.34536419e-02, -7.79145172e-02,\n",
       "        -8.16045642e-02, -8.44927536e-02, -8.65550244e-02,\n",
       "        -8.77743424e-02, -8.81408419e-02, -8.76519188e-02,\n",
       "        -8.63122968e-02, -8.41340920e-02, -8.11368569e-02,\n",
       "        -7.73475133e-02, -7.28003346e-02, -6.75367991e-02,\n",
       "        -6.16053135e-02, -5.50610605e-02, -4.79655236e-02,\n",
       "        -4.03859997e-02, -3.23952352e-02, -2.40705948e-02,\n",
       "        -1.54933966e-02, -6.74828920e-03,  2.07783249e-03,\n",
       "         1.08966195e-02,  1.96191291e-02,  2.81569708e-02,\n",
       "         3.64231524e-02,  4.43331036e-02,  5.18056394e-02,\n",
       "         5.87638558e-02,  6.51360497e-02,  7.08564523e-02,\n",
       "         7.08564523e-02]])"
      ]
     },
     "execution_count": 11,
     "metadata": {},
     "output_type": "execute_result"
    }
   ],
   "source": [
    "model.get_solutions([\"t_1\", \"y_1\"])"
   ]
  },
  {
   "cell_type": "code",
   "execution_count": 12,
   "metadata": {},
   "outputs": [
    {
     "data": {
      "image/png": "[encoded data removed]",
      "text/plain": [
       "<Figure size 432x288 with 1 Axes>"
      ]
     },
     "metadata": {
      "needs_background": "light"
     },
     "output_type": "display_data"
    }
   ],
   "source": [
    "for d in [5, 10, 15]:\n",
    "    model.set_parameters(d_1 = d)\n",
    "    model.simulate(h = 0.1)\n",
    "    yy = model.get_solutions(\"y_1\")\n",
    "    plt.plot(tt, yy, label = \"d = \" + str(d))\n",
    "plt.legend()\n",
    "plt.show()"
   ]
  }
 ],
 "metadata": {
  "file_extension": ".py",
  "kernelspec": {
   "display_name": "Python 3",
   "language": "python",
   "name": "python3"
  },
  "language_info": {
   "codemirror_mode": {
    "name": "ipython",
    "version": 3
   },
   "file_extension": ".py",
   "mimetype": "text/x-python",
   "name": "python",
   "nbconvert_exporter": "python",
   "pygments_lexer": "ipython3",
   "version": "3.6.8"
  },
  "mimetype": "text/x-python",
  "name": "python",
  "npconvert_exporter": "python",
  "pygments_lexer": "ipython3",
  "version": 3
 },
 "nbformat": 4,
 "nbformat_minor": 2
}
