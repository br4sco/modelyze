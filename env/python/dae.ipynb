{
 "cells": [
  {
   "cell_type": "code",
   "execution_count": 1,
   "metadata": {},
   "outputs": [],
   "source": [
    "from sympy import *\n",
    "from sympy.physics.vector import dynamicsymbols\n",
    "from sympy import diff, Symbol"
   ]
  },
  {
   "cell_type": "code",
   "execution_count": 2,
   "metadata": {},
   "outputs": [],
   "source": [
    "d, m, k = symbols([\"d\", \"m\", \"k\"])"
   ]
  },
  {
   "cell_type": "code",
   "execution_count": 3,
   "metadata": {},
   "outputs": [],
   "source": [
    "u, y = dynamicsymbols([\"u\", \"y\"])"
   ]
  },
  {
   "cell_type": "code",
   "execution_count": 4,
   "metadata": {},
   "outputs": [],
   "source": [
    "uu = Matrix([u])"
   ]
  },
  {
   "cell_type": "code",
   "execution_count": 5,
   "metadata": {},
   "outputs": [],
   "source": [
    "yy = Matrix([y])"
   ]
  },
  {
   "cell_type": "code",
   "execution_count": 6,
   "metadata": {},
   "outputs": [],
   "source": [
    "xl = dynamicsymbols([\"x_d\", \"v_d\", \"F_d\", \"x_k\", \"F_k\", \"x_m\", \"v_m\", \"F_m\" ,\"x_a\", \"x_s\"])"
   ]
  },
  {
   "cell_type": "code",
   "execution_count": 7,
   "metadata": {},
   "outputs": [],
   "source": [
    "[xd, vd, Fd, xk, Fk, xm, vm, Fm, xa, xs] = xl "
   ]
  },
  {
   "cell_type": "code",
   "execution_count": 8,
   "metadata": {},
   "outputs": [],
   "source": [
    "x = Matrix(xl)"
   ]
  },
  {
   "cell_type": "code",
   "execution_count": 9,
   "metadata": {},
   "outputs": [
    {
     "data": {
      "text/latex": [
       "$\\displaystyle \\left[\\begin{matrix}\\operatorname{x_{d}}{\\left(t \\right)}\\\\\\operatorname{v_{d}}{\\left(t \\right)}\\\\\\operatorname{F_{d}}{\\left(t \\right)}\\\\\\operatorname{x_{k}}{\\left(t \\right)}\\\\\\operatorname{F_{k}}{\\left(t \\right)}\\\\\\operatorname{x_{m}}{\\left(t \\right)}\\\\\\operatorname{v_{m}}{\\left(t \\right)}\\\\\\operatorname{F_{m}}{\\left(t \\right)}\\\\\\operatorname{x_{a}}{\\left(t \\right)}\\\\\\operatorname{x_{s}}{\\left(t \\right)}\\end{matrix}\\right]$"
      ],
      "text/plain": [
       "Matrix([\n",
       "[x_d(t)],\n",
       "[v_d(t)],\n",
       "[F_d(t)],\n",
       "[x_k(t)],\n",
       "[F_k(t)],\n",
       "[x_m(t)],\n",
       "[v_m(t)],\n",
       "[F_m(t)],\n",
       "[x_a(t)],\n",
       "[x_s(t)]])"
      ]
     },
     "execution_count": 9,
     "metadata": {},
     "output_type": "execute_result"
    }
   ],
   "source": [
    "x"
   ]
  },
  {
   "cell_type": "code",
   "execution_count": 10,
   "metadata": {},
   "outputs": [],
   "source": [
    "F = Matrix([\n",
    "    Fk - k * xk,\n",
    "    diff(xd) - vd,\n",
    "    Fd - d * vd,\n",
    "    diff(xm) - vm,\n",
    "    m * diff(vm) - Fm,\n",
    "    xs + y,\n",
    "    xa - xs,\n",
    "    xm - xs,\n",
    "    xd - xs,\n",
    "    xk - xs,\n",
    "    -Fk - Fd - Fm - u\n",
    " ])"
   ]
  },
  {
   "cell_type": "code",
   "execution_count": 11,
   "metadata": {},
   "outputs": [
    {
     "data": {
      "text/latex": [
       "$\\displaystyle \\left[\\begin{matrix}- k \\operatorname{x_{k}}{\\left(t \\right)} + \\operatorname{F_{k}}{\\left(t \\right)}\\\\- \\operatorname{v_{d}}{\\left(t \\right)} + \\frac{d}{d t} \\operatorname{x_{d}}{\\left(t \\right)}\\\\- d \\operatorname{v_{d}}{\\left(t \\right)} + \\operatorname{F_{d}}{\\left(t \\right)}\\\\- \\operatorname{v_{m}}{\\left(t \\right)} + \\frac{d}{d t} \\operatorname{x_{m}}{\\left(t \\right)}\\\\m \\frac{d}{d t} \\operatorname{v_{m}}{\\left(t \\right)} - \\operatorname{F_{m}}{\\left(t \\right)}\\\\\\operatorname{x_{s}}{\\left(t \\right)} + y{\\left(t \\right)}\\\\\\operatorname{x_{a}}{\\left(t \\right)} - \\operatorname{x_{s}}{\\left(t \\right)}\\\\\\operatorname{x_{m}}{\\left(t \\right)} - \\operatorname{x_{s}}{\\left(t \\right)}\\\\\\operatorname{x_{d}}{\\left(t \\right)} - \\operatorname{x_{s}}{\\left(t \\right)}\\\\\\operatorname{x_{k}}{\\left(t \\right)} - \\operatorname{x_{s}}{\\left(t \\right)}\\\\- \\operatorname{F_{d}}{\\left(t \\right)} - \\operatorname{F_{k}}{\\left(t \\right)} - \\operatorname{F_{m}}{\\left(t \\right)} - u{\\left(t \\right)}\\end{matrix}\\right]$"
      ],
      "text/plain": [
       "Matrix([\n",
       "[              -k*x_k(t) + F_k(t)],\n",
       "[ -v_d(t) + Derivative(x_d(t), t)],\n",
       "[              -d*v_d(t) + F_d(t)],\n",
       "[ -v_m(t) + Derivative(x_m(t), t)],\n",
       "[m*Derivative(v_m(t), t) - F_m(t)],\n",
       "[                   x_s(t) + y(t)],\n",
       "[                 x_a(t) - x_s(t)],\n",
       "[                 x_m(t) - x_s(t)],\n",
       "[                 x_d(t) - x_s(t)],\n",
       "[                 x_k(t) - x_s(t)],\n",
       "[-F_d(t) - F_k(t) - F_m(t) - u(t)]])"
      ]
     },
     "execution_count": 11,
     "metadata": {},
     "output_type": "execute_result"
    }
   ],
   "source": [
    "F"
   ]
  },
  {
   "cell_type": "code",
   "execution_count": 12,
   "metadata": {},
   "outputs": [
    {
     "data": {
      "text/latex": [
       "$\\displaystyle \\left[\\begin{matrix}0 & 0 & 0 & 0 & 0 & 0 & 0 & 0 & 0 & 0\\\\1 & 0 & 0 & 0 & 0 & 0 & 0 & 0 & 0 & 0\\\\0 & 0 & 0 & 0 & 0 & 0 & 0 & 0 & 0 & 0\\\\0 & 0 & 0 & 0 & 0 & 1 & 0 & 0 & 0 & 0\\\\0 & 0 & 0 & 0 & 0 & 0 & m & 0 & 0 & 0\\\\0 & 0 & 0 & 0 & 0 & 0 & 0 & 0 & 0 & 0\\\\0 & 0 & 0 & 0 & 0 & 0 & 0 & 0 & 0 & 0\\\\0 & 0 & 0 & 0 & 0 & 0 & 0 & 0 & 0 & 0\\\\0 & 0 & 0 & 0 & 0 & 0 & 0 & 0 & 0 & 0\\\\0 & 0 & 0 & 0 & 0 & 0 & 0 & 0 & 0 & 0\\\\0 & 0 & 0 & 0 & 0 & 0 & 0 & 0 & 0 & 0\\end{matrix}\\right]$"
      ],
      "text/plain": [
       "Matrix([\n",
       "[0, 0, 0, 0, 0, 0, 0, 0, 0, 0],\n",
       "[1, 0, 0, 0, 0, 0, 0, 0, 0, 0],\n",
       "[0, 0, 0, 0, 0, 0, 0, 0, 0, 0],\n",
       "[0, 0, 0, 0, 0, 1, 0, 0, 0, 0],\n",
       "[0, 0, 0, 0, 0, 0, m, 0, 0, 0],\n",
       "[0, 0, 0, 0, 0, 0, 0, 0, 0, 0],\n",
       "[0, 0, 0, 0, 0, 0, 0, 0, 0, 0],\n",
       "[0, 0, 0, 0, 0, 0, 0, 0, 0, 0],\n",
       "[0, 0, 0, 0, 0, 0, 0, 0, 0, 0],\n",
       "[0, 0, 0, 0, 0, 0, 0, 0, 0, 0],\n",
       "[0, 0, 0, 0, 0, 0, 0, 0, 0, 0]])"
      ]
     },
     "execution_count": 12,
     "metadata": {},
     "output_type": "execute_result"
    }
   ],
   "source": [
    "E = F.jacobian(diff(x))\n",
    "E"
   ]
  },
  {
   "cell_type": "code",
   "execution_count": 13,
   "metadata": {},
   "outputs": [
    {
     "data": {
      "text/latex": [
       "$\\displaystyle \\left[\\begin{matrix}0 & 0 & 0 & - k & 1 & 0 & 0 & 0 & 0 & 0\\\\0 & -1 & 0 & 0 & 0 & 0 & 0 & 0 & 0 & 0\\\\0 & - d & 1 & 0 & 0 & 0 & 0 & 0 & 0 & 0\\\\0 & 0 & 0 & 0 & 0 & 0 & -1 & 0 & 0 & 0\\\\0 & 0 & 0 & 0 & 0 & 0 & 0 & -1 & 0 & 0\\\\0 & 0 & 0 & 0 & 0 & 0 & 0 & 0 & 0 & 1\\\\0 & 0 & 0 & 0 & 0 & 0 & 0 & 0 & 1 & -1\\\\0 & 0 & 0 & 0 & 0 & 1 & 0 & 0 & 0 & -1\\\\1 & 0 & 0 & 0 & 0 & 0 & 0 & 0 & 0 & -1\\\\0 & 0 & 0 & 1 & 0 & 0 & 0 & 0 & 0 & -1\\\\0 & 0 & -1 & 0 & -1 & 0 & 0 & -1 & 0 & 0\\end{matrix}\\right]$"
      ],
      "text/plain": [
       "Matrix([\n",
       "[0,  0,  0, -k,  1, 0,  0,  0, 0,  0],\n",
       "[0, -1,  0,  0,  0, 0,  0,  0, 0,  0],\n",
       "[0, -d,  1,  0,  0, 0,  0,  0, 0,  0],\n",
       "[0,  0,  0,  0,  0, 0, -1,  0, 0,  0],\n",
       "[0,  0,  0,  0,  0, 0,  0, -1, 0,  0],\n",
       "[0,  0,  0,  0,  0, 0,  0,  0, 0,  1],\n",
       "[0,  0,  0,  0,  0, 0,  0,  0, 1, -1],\n",
       "[0,  0,  0,  0,  0, 1,  0,  0, 0, -1],\n",
       "[1,  0,  0,  0,  0, 0,  0,  0, 0, -1],\n",
       "[0,  0,  0,  1,  0, 0,  0,  0, 0, -1],\n",
       "[0,  0, -1,  0, -1, 0,  0, -1, 0,  0]])"
      ]
     },
     "execution_count": 13,
     "metadata": {},
     "output_type": "execute_result"
    }
   ],
   "source": [
    "A = F.jacobian(x)\n",
    "A"
   ]
  },
  {
   "cell_type": "code",
   "execution_count": 14,
   "metadata": {},
   "outputs": [
    {
     "data": {
      "text/latex": [
       "$\\displaystyle \\left[\\begin{matrix}0\\\\0\\\\0\\\\0\\\\0\\\\0\\\\0\\\\0\\\\0\\\\0\\\\-1\\end{matrix}\\right]$"
      ],
      "text/plain": [
       "Matrix([\n",
       "[ 0],\n",
       "[ 0],\n",
       "[ 0],\n",
       "[ 0],\n",
       "[ 0],\n",
       "[ 0],\n",
       "[ 0],\n",
       "[ 0],\n",
       "[ 0],\n",
       "[ 0],\n",
       "[-1]])"
      ]
     },
     "execution_count": 14,
     "metadata": {},
     "output_type": "execute_result"
    }
   ],
   "source": [
    "B = F.jacobian(uu)\n",
    "B"
   ]
  },
  {
   "cell_type": "code",
   "execution_count": 15,
   "metadata": {},
   "outputs": [
    {
     "data": {
      "text/latex": [
       "$\\displaystyle \\left[\\begin{array}{ccccccccccc}0 & 0 & 0 & 0 & 0 & 1 & 0 & 0 & 0 & 0 & 0\\end{array}\\right]$"
      ],
      "text/plain": [
       "Matrix([[0, 0, 0, 0, 0, 1, 0, 0, 0, 0, 0]])"
      ]
     },
     "execution_count": 15,
     "metadata": {},
     "output_type": "execute_result"
    }
   ],
   "source": [
    "C = F.jacobian(yy).transpose()\n",
    "C"
   ]
  },
  {
   "cell_type": "code",
   "execution_count": 16,
   "metadata": {},
   "outputs": [
    {
     "data": {
      "text/latex": [
       "$\\displaystyle \\left[\\begin{matrix}- k \\operatorname{x_{k}}{\\left(t \\right)} + \\operatorname{F_{k}}{\\left(t \\right)}\\\\- \\operatorname{v_{d}}{\\left(t \\right)} + \\frac{d}{d t} \\operatorname{x_{d}}{\\left(t \\right)}\\\\- d \\operatorname{v_{d}}{\\left(t \\right)} + \\operatorname{F_{d}}{\\left(t \\right)}\\\\- \\operatorname{v_{m}}{\\left(t \\right)} + \\frac{d}{d t} \\operatorname{x_{m}}{\\left(t \\right)}\\\\m \\frac{d}{d t} \\operatorname{v_{m}}{\\left(t \\right)} - \\operatorname{F_{m}}{\\left(t \\right)}\\\\\\operatorname{x_{s}}{\\left(t \\right)}\\\\\\operatorname{x_{a}}{\\left(t \\right)} - \\operatorname{x_{s}}{\\left(t \\right)}\\\\\\operatorname{x_{m}}{\\left(t \\right)} - \\operatorname{x_{s}}{\\left(t \\right)}\\\\\\operatorname{x_{d}}{\\left(t \\right)} - \\operatorname{x_{s}}{\\left(t \\right)}\\\\\\operatorname{x_{k}}{\\left(t \\right)} - \\operatorname{x_{s}}{\\left(t \\right)}\\\\- \\operatorname{F_{d}}{\\left(t \\right)} - \\operatorname{F_{k}}{\\left(t \\right)} - \\operatorname{F_{m}}{\\left(t \\right)} - u{\\left(t \\right)}\\end{matrix}\\right]$"
      ],
      "text/plain": [
       "Matrix([\n",
       "[              -k*x_k(t) + F_k(t)],\n",
       "[ -v_d(t) + Derivative(x_d(t), t)],\n",
       "[              -d*v_d(t) + F_d(t)],\n",
       "[ -v_m(t) + Derivative(x_m(t), t)],\n",
       "[m*Derivative(v_m(t), t) - F_m(t)],\n",
       "[                          x_s(t)],\n",
       "[                 x_a(t) - x_s(t)],\n",
       "[                 x_m(t) - x_s(t)],\n",
       "[                 x_d(t) - x_s(t)],\n",
       "[                 x_k(t) - x_s(t)],\n",
       "[-F_d(t) - F_k(t) - F_m(t) - u(t)]])"
      ]
     },
     "execution_count": 16,
     "metadata": {},
     "output_type": "execute_result"
    }
   ],
   "source": [
    "E * diff(x) + A * x + B * uu"
   ]
  },
  {
   "cell_type": "code",
   "execution_count": 17,
   "metadata": {},
   "outputs": [
    {
     "data": {
      "text/latex": [
       "$\\displaystyle \\left[\\begin{matrix}- \\operatorname{x_{m}}{\\left(t \\right)} + y{\\left(t \\right)}\\end{matrix}\\right]$"
      ],
      "text/plain": [
       "Matrix([[-x_m(t) + y(t)]])"
      ]
     },
     "execution_count": 17,
     "metadata": {},
     "output_type": "execute_result"
    }
   ],
   "source": [
    "yy - C * Matrix([x,yy])"
   ]
  },
  {
   "cell_type": "code",
   "execution_count": null,
   "metadata": {},
   "outputs": [],
   "source": []
  }
 ],
 "metadata": {
  "kernelspec": {
   "display_name": "Python 3",
   "language": "python",
   "name": "python3"
  },
  "language_info": {
   "codemirror_mode": {
    "name": "ipython",
    "version": 3
   },
   "file_extension": ".py",
   "mimetype": "text/x-python",
   "name": "python",
   "nbconvert_exporter": "python",
   "pygments_lexer": "ipython3",
   "version": "3.6.8"
  }
 },
 "nbformat": 4,
 "nbformat_minor": 2
}
