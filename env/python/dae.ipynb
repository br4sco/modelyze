{
 "cells": [
  {
   "cell_type": "code",
   "execution_count": 1,
   "metadata": {},
   "outputs": [],
   "source": [
    "from sympy import *\n",
    "from sympy.physics.vector import dynamicsymbols\n",
    "from sympy import diff, Symbol\n",
    "from sympy.integrals.transforms import laplace_transform\n",
    "from sympy.integrals.transforms import inverse_laplace_transform\n",
    "from sympy.matrices.expressions.blockmatrix import *"
   ]
  },
  {
   "cell_type": "code",
   "execution_count": 2,
   "metadata": {},
   "outputs": [],
   "source": [
    "def mkE(Fd, Fa, xxd, xxa):\n",
    "    return BlockMatrix([[Fd.jacobian(diff(xxd)), zeros(len(Fd), len(Fa))],\n",
    "                        [zeros(len(Fa), len(Fd)), Fa.jacobian(diff(xxa))]])"
   ]
  },
  {
   "cell_type": "code",
   "execution_count": 3,
   "metadata": {},
   "outputs": [],
   "source": [
    "t, s = symbols([\"t\", \"s\"])"
   ]
  },
  {
   "cell_type": "code",
   "execution_count": 4,
   "metadata": {},
   "outputs": [],
   "source": [
    "d, m, k = symbols([\"d\", \"m\", \"k\"])"
   ]
  },
  {
   "cell_type": "code",
   "execution_count": 5,
   "metadata": {},
   "outputs": [],
   "source": [
    "u, y = dynamicsymbols([\"u\", \"y\"])"
   ]
  },
  {
   "cell_type": "code",
   "execution_count": 6,
   "metadata": {},
   "outputs": [],
   "source": [
    "xl = dynamicsymbols([\"v_m\", \"x_d\", \"x_m\", \"v_d\", \"f_d\", \"x_k\", \"f_k\", \"f_m\" ,\"x_a\", \"x_s\", \"Dx_d\", \"Dx_m\"])"
   ]
  },
  {
   "cell_type": "code",
   "execution_count": 7,
   "metadata": {},
   "outputs": [],
   "source": [
    "[vm, xd, xm, vd, fd, xk, fk, fm, xa, xs, Dxd, Dxm] = xl"
   ]
  },
  {
   "cell_type": "code",
   "execution_count": 8,
   "metadata": {},
   "outputs": [
    {
     "data": {
      "text/latex": [
       "$\\displaystyle \\left[\\begin{matrix}\\operatorname{v_{m}}{\\left(t \\right)}\\\\\\operatorname{x_{d}}{\\left(t \\right)}\\\\\\operatorname{x_{m}}{\\left(t \\right)}\\end{matrix}\\right]$"
      ],
      "text/plain": [
       "Matrix([\n",
       "[v_m(t)],\n",
       "[x_d(t)],\n",
       "[x_m(t)]])"
      ]
     },
     "execution_count": 8,
     "metadata": {},
     "output_type": "execute_result"
    }
   ],
   "source": [
    "xxd2 = Matrix([vm, xd, xm])\n",
    "xxd2"
   ]
  },
  {
   "cell_type": "code",
   "execution_count": 9,
   "metadata": {},
   "outputs": [
    {
     "data": {
      "text/latex": [
       "$\\displaystyle \\left[\\begin{matrix}\\operatorname{v_{d}}{\\left(t \\right)}\\\\\\operatorname{f_{d}}{\\left(t \\right)}\\\\\\operatorname{x_{k}}{\\left(t \\right)}\\\\\\operatorname{f_{k}}{\\left(t \\right)}\\\\\\operatorname{f_{m}}{\\left(t \\right)}\\end{matrix}\\right]$"
      ],
      "text/plain": [
       "Matrix([\n",
       "[v_d(t)],\n",
       "[f_d(t)],\n",
       "[x_k(t)],\n",
       "[f_k(t)],\n",
       "[f_m(t)]])"
      ]
     },
     "execution_count": 9,
     "metadata": {},
     "output_type": "execute_result"
    }
   ],
   "source": [
    "xxa2 = Matrix([vd, fd, xk, fk, fm])\n",
    "xxa2"
   ]
  },
  {
   "cell_type": "code",
   "execution_count": 10,
   "metadata": {},
   "outputs": [
    {
     "data": {
      "text/latex": [
       "$\\displaystyle \\left[\\begin{matrix}m \\frac{d}{d t} \\operatorname{v_{m}}{\\left(t \\right)} - \\operatorname{f_{m}}{\\left(t \\right)}\\\\- \\operatorname{v_{d}}{\\left(t \\right)} + \\frac{d}{d t} \\operatorname{x_{d}}{\\left(t \\right)}\\\\- \\operatorname{v_{m}}{\\left(t \\right)} + \\frac{d}{d t} \\operatorname{x_{m}}{\\left(t \\right)}\\end{matrix}\\right]$"
      ],
      "text/plain": [
       "Matrix([\n",
       "[m*Derivative(v_m(t), t) - f_m(t)],\n",
       "[ -v_d(t) + Derivative(x_d(t), t)],\n",
       "[ -v_m(t) + Derivative(x_m(t), t)]])"
      ]
     },
     "execution_count": 10,
     "metadata": {},
     "output_type": "execute_result"
    }
   ],
   "source": [
    "Fd2 = Matrix([\n",
    "    m * diff(vm) - fm,\n",
    "    diff(xd) - vd,\n",
    "    diff(xm) - vm\n",
    "])\n",
    "Fd2"
   ]
  },
  {
   "cell_type": "code",
   "execution_count": 11,
   "metadata": {},
   "outputs": [
    {
     "data": {
      "text/latex": [
       "$\\displaystyle \\left[\\begin{matrix}- k \\operatorname{x_{k}}{\\left(t \\right)} + \\operatorname{f_{k}}{\\left(t \\right)}\\\\- d \\operatorname{v_{d}}{\\left(t \\right)} + \\operatorname{f_{d}}{\\left(t \\right)}\\\\\\operatorname{x_{d}}{\\left(t \\right)} - \\operatorname{x_{m}}{\\left(t \\right)}\\\\\\operatorname{x_{k}}{\\left(t \\right)} - \\operatorname{x_{m}}{\\left(t \\right)}\\\\- \\operatorname{f_{d}}{\\left(t \\right)} - \\operatorname{f_{k}}{\\left(t \\right)} - \\operatorname{f_{m}}{\\left(t \\right)}\\end{matrix}\\right]$"
      ],
      "text/plain": [
       "Matrix([\n",
       "[       -k*x_k(t) + f_k(t)],\n",
       "[       -d*v_d(t) + f_d(t)],\n",
       "[          x_d(t) - x_m(t)],\n",
       "[          x_k(t) - x_m(t)],\n",
       "[-f_d(t) - f_k(t) - f_m(t)]])"
      ]
     },
     "execution_count": 11,
     "metadata": {},
     "output_type": "execute_result"
    }
   ],
   "source": [
    "Fa2 = Matrix([\n",
    "    fk - k * xk,\n",
    "    fd - d * vd,\n",
    "    xd - xm,\n",
    "    xk - xm,\n",
    "    -fk - fd - fm\n",
    "])\n",
    "Fa2"
   ]
  },
  {
   "cell_type": "code",
   "execution_count": 12,
   "metadata": {},
   "outputs": [
    {
     "data": {
      "text/latex": [
       "$\\displaystyle \\left[\\begin{matrix}\\operatorname{v_{m}}{\\left(t \\right)}\\\\\\operatorname{x_{d}}{\\left(t \\right)}\\\\\\operatorname{x_{m}}{\\left(t \\right)}\\end{matrix}\\right]$"
      ],
      "text/plain": [
       "Matrix([\n",
       "[v_m(t)],\n",
       "[x_d(t)],\n",
       "[x_m(t)]])"
      ]
     },
     "execution_count": 12,
     "metadata": {},
     "output_type": "execute_result"
    }
   ],
   "source": [
    "xxd1 = Matrix([vm, xd, xm])\n",
    "xxd1"
   ]
  },
  {
   "cell_type": "code",
   "execution_count": 13,
   "metadata": {},
   "outputs": [
    {
     "data": {
      "text/latex": [
       "$\\displaystyle \\left[\\begin{matrix}\\operatorname{Dx_{d}}{\\left(t \\right)}\\\\\\operatorname{Dx_{m}}{\\left(t \\right)}\\\\\\operatorname{v_{d}}{\\left(t \\right)}\\\\\\operatorname{f_{d}}{\\left(t \\right)}\\\\\\operatorname{x_{k}}{\\left(t \\right)}\\\\\\operatorname{f_{k}}{\\left(t \\right)}\\\\\\operatorname{f_{m}}{\\left(t \\right)}\\end{matrix}\\right]$"
      ],
      "text/plain": [
       "Matrix([\n",
       "[Dx_d(t)],\n",
       "[Dx_m(t)],\n",
       "[ v_d(t)],\n",
       "[ f_d(t)],\n",
       "[ x_k(t)],\n",
       "[ f_k(t)],\n",
       "[ f_m(t)]])"
      ]
     },
     "execution_count": 13,
     "metadata": {},
     "output_type": "execute_result"
    }
   ],
   "source": [
    "xxa1 = Matrix([Dxd, Dxm, vd, fd, xk, fk, fm])\n",
    "xxa1"
   ]
  },
  {
   "cell_type": "code",
   "execution_count": 14,
   "metadata": {},
   "outputs": [
    {
     "data": {
      "text/latex": [
       "$\\displaystyle \\left[\\begin{matrix}m \\frac{d}{d t} \\operatorname{v_{m}}{\\left(t \\right)} - \\operatorname{f_{m}}{\\left(t \\right)}\\\\- \\operatorname{Dx_{d}}{\\left(t \\right)} + \\frac{d}{d t} \\operatorname{x_{d}}{\\left(t \\right)}\\\\- \\operatorname{Dx_{m}}{\\left(t \\right)} + \\frac{d}{d t} \\operatorname{x_{m}}{\\left(t \\right)}\\end{matrix}\\right]$"
      ],
      "text/plain": [
       "Matrix([\n",
       "[m*Derivative(v_m(t), t) - f_m(t)],\n",
       "[-Dx_d(t) + Derivative(x_d(t), t)],\n",
       "[-Dx_m(t) + Derivative(x_m(t), t)]])"
      ]
     },
     "execution_count": 14,
     "metadata": {},
     "output_type": "execute_result"
    }
   ],
   "source": [
    "Fd1 = Matrix([\n",
    "    m * diff(vm) - fm,\n",
    "    diff(xd) - Dxd,\n",
    "    diff(xm) - Dxm\n",
    "])\n",
    "Fd1"
   ]
  },
  {
   "cell_type": "code",
   "execution_count": 15,
   "metadata": {},
   "outputs": [
    {
     "data": {
      "text/latex": [
       "$\\displaystyle \\left[\\begin{matrix}\\operatorname{Dx_{d}}{\\left(t \\right)} - \\operatorname{v_{d}}{\\left(t \\right)}\\\\\\operatorname{Dx_{m}}{\\left(t \\right)} - \\operatorname{v_{m}}{\\left(t \\right)}\\\\- k \\operatorname{x_{k}}{\\left(t \\right)} + \\operatorname{f_{k}}{\\left(t \\right)}\\\\- d \\operatorname{v_{d}}{\\left(t \\right)} + \\operatorname{f_{d}}{\\left(t \\right)}\\\\\\operatorname{x_{d}}{\\left(t \\right)} - \\operatorname{x_{m}}{\\left(t \\right)}\\\\\\operatorname{x_{k}}{\\left(t \\right)} - \\operatorname{x_{m}}{\\left(t \\right)}\\\\- \\operatorname{f_{d}}{\\left(t \\right)} - \\operatorname{f_{k}}{\\left(t \\right)} - \\operatorname{f_{m}}{\\left(t \\right)}\\end{matrix}\\right]$"
      ],
      "text/plain": [
       "Matrix([\n",
       "[         Dx_d(t) - v_d(t)],\n",
       "[         Dx_m(t) - v_m(t)],\n",
       "[       -k*x_k(t) + f_k(t)],\n",
       "[       -d*v_d(t) + f_d(t)],\n",
       "[          x_d(t) - x_m(t)],\n",
       "[          x_k(t) - x_m(t)],\n",
       "[-f_d(t) - f_k(t) - f_m(t)]])"
      ]
     },
     "execution_count": 15,
     "metadata": {},
     "output_type": "execute_result"
    }
   ],
   "source": [
    "Fa1 = Matrix([\n",
    "    Dxd - vd,\n",
    "    Dxm - vm,\n",
    "    fk - k * xk,\n",
    "    fd - d * vd,\n",
    "    xd - xm,\n",
    "    xk - xm,\n",
    "    -fk - fd - fm\n",
    "])\n",
    "Fa1"
   ]
  },
  {
   "cell_type": "code",
   "execution_count": 16,
   "metadata": {},
   "outputs": [
    {
     "data": {
      "text/latex": [
       "$\\displaystyle \\left[\\begin{matrix}\\left[\\begin{matrix}m & 0 & 0\\\\0 & 1 & 0\\\\0 & 0 & 1\\end{matrix}\\right] & \\left[\\begin{matrix}0 & 0 & 0 & 0 & 0\\\\0 & 0 & 0 & 0 & 0\\\\0 & 0 & 0 & 0 & 0\\end{matrix}\\right]\\\\\\left[\\begin{matrix}0 & 0 & 0\\\\0 & 0 & 0\\\\0 & 0 & 0\\\\0 & 0 & 0\\\\0 & 0 & 0\\end{matrix}\\right] & \\left[\\begin{matrix}0 & 0 & 0 & 0 & 0\\\\0 & 0 & 0 & 0 & 0\\\\0 & 0 & 0 & 0 & 0\\\\0 & 0 & 0 & 0 & 0\\\\0 & 0 & 0 & 0 & 0\\end{matrix}\\right]\\end{matrix}\\right]$"
      ],
      "text/plain": [
       "Matrix([\n",
       "[                      Matrix([\n",
       "[m, 0, 0],\n",
       "[0, 1, 0],\n",
       "[0, 0, 1]]),                                   Matrix([\n",
       "[0, 0, 0, 0, 0],\n",
       "[0, 0, 0, 0, 0],\n",
       "[0, 0, 0, 0, 0]])],\n",
       "[Matrix([\n",
       "[0, 0, 0],\n",
       "[0, 0, 0],\n",
       "[0, 0, 0],\n",
       "[0, 0, 0],\n",
       "[0, 0, 0]]), Matrix([\n",
       "[0, 0, 0, 0, 0],\n",
       "[0, 0, 0, 0, 0],\n",
       "[0, 0, 0, 0, 0],\n",
       "[0, 0, 0, 0, 0],\n",
       "[0, 0, 0, 0, 0]])]])"
      ]
     },
     "execution_count": 16,
     "metadata": {},
     "output_type": "execute_result"
    }
   ],
   "source": [
    "E2 = mkE(Fd2, Fa2, xxd2, xxa2)\n",
    "E2"
   ]
  },
  {
   "cell_type": "code",
   "execution_count": 17,
   "metadata": {},
   "outputs": [
    {
     "data": {
      "text/latex": [
       "$\\displaystyle \\left[\\begin{matrix}\\left[\\begin{matrix}m & 0 & 0\\\\0 & 1 & 0\\\\0 & 0 & 1\\end{matrix}\\right] & \\left[\\begin{matrix}0 & 0 & 0 & 0 & 0\\\\0 & 0 & 0 & 0 & 0\\\\0 & 0 & 0 & 0 & 0\\end{matrix}\\right]\\\\\\left[\\begin{matrix}0 & 0 & 0\\\\0 & 0 & 0\\\\0 & 0 & 0\\\\0 & 0 & 0\\\\0 & 0 & 0\\end{matrix}\\right] & \\left[\\begin{matrix}0 & 0 & - k & 1 & 0\\\\- d & 1 & 0 & 0 & 0\\\\0 & 0 & 0 & 0 & 0\\\\0 & 0 & 1 & 0 & 0\\\\0 & -1 & 0 & -1 & -1\\end{matrix}\\right]\\end{matrix}\\right]$"
      ],
      "text/plain": [
       "Matrix([\n",
       "[                      Matrix([\n",
       "[m, 0, 0],\n",
       "[0, 1, 0],\n",
       "[0, 0, 1]]),                                                            Matrix([\n",
       "[0, 0, 0, 0, 0],\n",
       "[0, 0, 0, 0, 0],\n",
       "[0, 0, 0, 0, 0]])],\n",
       "[Matrix([\n",
       "[0, 0, 0],\n",
       "[0, 0, 0],\n",
       "[0, 0, 0],\n",
       "[0, 0, 0],\n",
       "[0, 0, 0]]), Matrix([\n",
       "[ 0,  0, -k,  1,  0],\n",
       "[-d,  1,  0,  0,  0],\n",
       "[ 0,  0,  0,  0,  0],\n",
       "[ 0,  0,  1,  0,  0],\n",
       "[ 0, -1,  0, -1, -1]])]])"
      ]
     },
     "execution_count": 17,
     "metadata": {},
     "output_type": "execute_result"
    }
   ],
   "source": [
    "E2d = mkE(Fd2, diff(Fa2,t), xxd2, xxa2)\n",
    "E2d"
   ]
  },
  {
   "cell_type": "code",
   "execution_count": 18,
   "metadata": {},
   "outputs": [
    {
     "data": {
      "text/latex": [
       "$\\displaystyle \\left[\\begin{matrix}1 & 0 & 0 & 0 & 0 & 0 & 0 & 0\\\\0 & 1 & 0 & 0 & 0 & 0 & 0 & 0\\\\0 & 0 & 1 & 0 & 0 & 0 & 0 & 0\\\\0 & 0 & 0 & 1 & 0 & 0 & 0 & \\frac{1}{d}\\\\0 & 0 & 0 & 0 & 1 & 0 & 0 & 1\\\\0 & 0 & 0 & 0 & 0 & 1 & 0 & 0\\\\0 & 0 & 0 & 0 & 0 & 0 & 1 & 0\\\\0 & 0 & 0 & 0 & 0 & 0 & 0 & 0\\end{matrix}\\right]$"
      ],
      "text/plain": [
       "Matrix([\n",
       "[1, 0, 0, 0, 0, 0, 0,   0],\n",
       "[0, 1, 0, 0, 0, 0, 0,   0],\n",
       "[0, 0, 1, 0, 0, 0, 0,   0],\n",
       "[0, 0, 0, 1, 0, 0, 0, 1/d],\n",
       "[0, 0, 0, 0, 1, 0, 0,   1],\n",
       "[0, 0, 0, 0, 0, 1, 0,   0],\n",
       "[0, 0, 0, 0, 0, 0, 1,   0],\n",
       "[0, 0, 0, 0, 0, 0, 0,   0]])"
      ]
     },
     "execution_count": 18,
     "metadata": {},
     "output_type": "execute_result"
    }
   ],
   "source": [
    "(Eld2rr, Eld2c) = Matrix(E2d).rref(simplify=True)\n",
    "Eld2rr"
   ]
  },
  {
   "cell_type": "code",
   "execution_count": 19,
   "metadata": {},
   "outputs": [
    {
     "data": {
      "text/latex": [
       "$\\displaystyle \\left[\\begin{matrix}\\left[\\begin{matrix}m & 0 & 0\\\\0 & 1 & 0\\\\0 & 0 & 1\\end{matrix}\\right] & \\left[\\begin{matrix}0 & 0 & 0 & 0 & 0 & 0 & 0\\\\0 & 0 & 0 & 0 & 0 & 0 & 0\\\\0 & 0 & 0 & 0 & 0 & 0 & 0\\end{matrix}\\right]\\\\\\left[\\begin{matrix}0 & 0 & 0\\\\0 & 0 & 0\\\\0 & 0 & 0\\\\0 & 0 & 0\\\\0 & 0 & 0\\\\0 & 0 & 0\\\\0 & 0 & 0\\end{matrix}\\right] & \\left[\\begin{matrix}0 & 0 & 0 & 0 & 0 & 0 & 0\\\\0 & 0 & 0 & 0 & 0 & 0 & 0\\\\0 & 0 & 0 & 0 & 0 & 0 & 0\\\\0 & 0 & 0 & 0 & 0 & 0 & 0\\\\0 & 0 & 0 & 0 & 0 & 0 & 0\\\\0 & 0 & 0 & 0 & 0 & 0 & 0\\\\0 & 0 & 0 & 0 & 0 & 0 & 0\\end{matrix}\\right]\\end{matrix}\\right]$"
      ],
      "text/plain": [
       "Matrix([\n",
       "[                                            Matrix([\n",
       "[m, 0, 0],\n",
       "[0, 1, 0],\n",
       "[0, 0, 1]]),                                                                                             Matrix([\n",
       "[0, 0, 0, 0, 0, 0, 0],\n",
       "[0, 0, 0, 0, 0, 0, 0],\n",
       "[0, 0, 0, 0, 0, 0, 0]])],\n",
       "[Matrix([\n",
       "[0, 0, 0],\n",
       "[0, 0, 0],\n",
       "[0, 0, 0],\n",
       "[0, 0, 0],\n",
       "[0, 0, 0],\n",
       "[0, 0, 0],\n",
       "[0, 0, 0]]), Matrix([\n",
       "[0, 0, 0, 0, 0, 0, 0],\n",
       "[0, 0, 0, 0, 0, 0, 0],\n",
       "[0, 0, 0, 0, 0, 0, 0],\n",
       "[0, 0, 0, 0, 0, 0, 0],\n",
       "[0, 0, 0, 0, 0, 0, 0],\n",
       "[0, 0, 0, 0, 0, 0, 0],\n",
       "[0, 0, 0, 0, 0, 0, 0]])]])"
      ]
     },
     "execution_count": 19,
     "metadata": {},
     "output_type": "execute_result"
    }
   ],
   "source": [
    "E1 = mkE(Fd1, Fa1, xxd1, xxa1)\n",
    "E1"
   ]
  },
  {
   "cell_type": "code",
   "execution_count": 20,
   "metadata": {},
   "outputs": [
    {
     "data": {
      "text/latex": [
       "$\\displaystyle \\left[\\begin{matrix}\\left[\\begin{matrix}m & 0 & 0\\\\0 & 1 & 0\\\\0 & 0 & 1\\end{matrix}\\right] & \\left[\\begin{matrix}0 & 0 & 0 & 0 & 0 & 0 & 0\\\\0 & 0 & 0 & 0 & 0 & 0 & 0\\\\0 & 0 & 0 & 0 & 0 & 0 & 0\\end{matrix}\\right]\\\\\\left[\\begin{matrix}0 & 0 & 0\\\\0 & 0 & 0\\\\0 & 0 & 0\\\\0 & 0 & 0\\\\0 & 0 & 0\\\\0 & 0 & 0\\\\0 & 0 & 0\\end{matrix}\\right] & \\left[\\begin{matrix}1 & 0 & -1 & 0 & 0 & 0 & 0\\\\0 & 1 & 0 & 0 & 0 & 0 & 0\\\\0 & 0 & 0 & 0 & - k & 1 & 0\\\\0 & 0 & - d & 1 & 0 & 0 & 0\\\\0 & 0 & 0 & 0 & 0 & 0 & 0\\\\0 & 0 & 0 & 0 & 1 & 0 & 0\\\\0 & 0 & 0 & -1 & 0 & -1 & -1\\end{matrix}\\right]\\end{matrix}\\right]$"
      ],
      "text/plain": [
       "Matrix([\n",
       "[                                            Matrix([\n",
       "[m, 0, 0],\n",
       "[0, 1, 0],\n",
       "[0, 0, 1]]),                                                                                                                                Matrix([\n",
       "[0, 0, 0, 0, 0, 0, 0],\n",
       "[0, 0, 0, 0, 0, 0, 0],\n",
       "[0, 0, 0, 0, 0, 0, 0]])],\n",
       "[Matrix([\n",
       "[0, 0, 0],\n",
       "[0, 0, 0],\n",
       "[0, 0, 0],\n",
       "[0, 0, 0],\n",
       "[0, 0, 0],\n",
       "[0, 0, 0],\n",
       "[0, 0, 0]]), Matrix([\n",
       "[1, 0, -1,  0,  0,  0,  0],\n",
       "[0, 1,  0,  0,  0,  0,  0],\n",
       "[0, 0,  0,  0, -k,  1,  0],\n",
       "[0, 0, -d,  1,  0,  0,  0],\n",
       "[0, 0,  0,  0,  0,  0,  0],\n",
       "[0, 0,  0,  0,  1,  0,  0],\n",
       "[0, 0,  0, -1,  0, -1, -1]])]])"
      ]
     },
     "execution_count": 20,
     "metadata": {},
     "output_type": "execute_result"
    }
   ],
   "source": [
    "E1d = mkE(Fd1, diff(Fa1,t), xxd1, xxa1)\n",
    "E1d"
   ]
  },
  {
   "cell_type": "code",
   "execution_count": 21,
   "metadata": {},
   "outputs": [
    {
     "data": {
      "text/latex": [
       "$\\displaystyle \\left[\\begin{matrix}1 & 0 & 0 & 0 & 0 & 0 & 0 & 0 & 0 & 0\\\\0 & 1 & 0 & 0 & 0 & 0 & 0 & 0 & 0 & 0\\\\0 & 0 & 1 & 0 & 0 & 0 & 0 & 0 & 0 & 0\\\\0 & 0 & 0 & 1 & 0 & 0 & 0 & 0 & 0 & \\frac{1}{d}\\\\0 & 0 & 0 & 0 & 1 & 0 & 0 & 0 & 0 & 0\\\\0 & 0 & 0 & 0 & 0 & 1 & 0 & 0 & 0 & \\frac{1}{d}\\\\0 & 0 & 0 & 0 & 0 & 0 & 1 & 0 & 0 & 1\\\\0 & 0 & 0 & 0 & 0 & 0 & 0 & 1 & 0 & 0\\\\0 & 0 & 0 & 0 & 0 & 0 & 0 & 0 & 1 & 0\\\\0 & 0 & 0 & 0 & 0 & 0 & 0 & 0 & 0 & 0\\end{matrix}\\right]$"
      ],
      "text/plain": [
       "Matrix([\n",
       "[1, 0, 0, 0, 0, 0, 0, 0, 0,   0],\n",
       "[0, 1, 0, 0, 0, 0, 0, 0, 0,   0],\n",
       "[0, 0, 1, 0, 0, 0, 0, 0, 0,   0],\n",
       "[0, 0, 0, 1, 0, 0, 0, 0, 0, 1/d],\n",
       "[0, 0, 0, 0, 1, 0, 0, 0, 0,   0],\n",
       "[0, 0, 0, 0, 0, 1, 0, 0, 0, 1/d],\n",
       "[0, 0, 0, 0, 0, 0, 1, 0, 0,   1],\n",
       "[0, 0, 0, 0, 0, 0, 0, 1, 0,   0],\n",
       "[0, 0, 0, 0, 0, 0, 0, 0, 1,   0],\n",
       "[0, 0, 0, 0, 0, 0, 0, 0, 0,   0]])"
      ]
     },
     "execution_count": 21,
     "metadata": {},
     "output_type": "execute_result"
    }
   ],
   "source": [
    "(Eld1rr, Eld1c) = Matrix(E1d).rref(simplify=True)\n",
    "Eld1rr"
   ]
  },
  {
   "cell_type": "code",
   "execution_count": null,
   "metadata": {},
   "outputs": [],
   "source": []
  }
 ],
 "metadata": {
  "kernelspec": {
   "display_name": "Python 3",
   "language": "python",
   "name": "python3"
  },
  "language_info": {
   "codemirror_mode": {
    "name": "ipython",
    "version": 3
   },
   "file_extension": ".py",
   "mimetype": "text/x-python",
   "name": "python",
   "nbconvert_exporter": "python",
   "pygments_lexer": "ipython3",
   "version": "3.6.8"
  }
 },
 "nbformat": 4,
 "nbformat_minor": 2
}
