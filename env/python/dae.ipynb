{
 "cells": [
  {
   "cell_type": "code",
   "execution_count": 1,
   "metadata": {},
   "outputs": [],
   "source": [
    "from sympy import *\n",
    "from sympy.physics.vector import dynamicsymbols\n",
    "from sympy import diff, Symbol\n",
    "from sympy.integrals.transforms import laplace_transform\n",
    "from sympy.integrals.transforms import inverse_laplace_transform\n",
    "from sympy.matrices.expressions.blockmatrix import *"
   ]
  },
  {
   "cell_type": "code",
   "execution_count": 2,
   "metadata": {},
   "outputs": [],
   "source": [
    "t, s = symbols([\"t\", \"s\"])"
   ]
  },
  {
   "cell_type": "code",
   "execution_count": 3,
   "metadata": {},
   "outputs": [],
   "source": [
    "d, m, k = symbols([\"d\", \"m\", \"k\"])"
   ]
  },
  {
   "cell_type": "code",
   "execution_count": 4,
   "metadata": {},
   "outputs": [],
   "source": [
    "u, y = dynamicsymbols([\"u\", \"y\"])"
   ]
  },
  {
   "cell_type": "code",
   "execution_count": 5,
   "metadata": {},
   "outputs": [],
   "source": [
    "xl = dynamicsymbols([\"v_m\", \"x_d\", \"x_m\", \"v_d\", \"f_d\", \"x_k\", \"f_k\", \"f_m\" ,\"x_a\", \"x_s\", \"Dx_d\", \"Dx_m\"])"
   ]
  },
  {
   "cell_type": "code",
   "execution_count": 6,
   "metadata": {},
   "outputs": [],
   "source": [
    "[vm, xd, xm, vd, fd, xk, fk, fm, xa, xs, Dxd, Dxm] = xl"
   ]
  },
  {
   "cell_type": "code",
   "execution_count": 8,
   "metadata": {},
   "outputs": [
    {
     "data": {
      "text/latex": [
       "$\\displaystyle \\left[\\begin{matrix}m \\frac{d}{d t} \\operatorname{v_{m}}{\\left(t \\right)} - \\operatorname{f_{m}}{\\left(t \\right)}\\\\- \\operatorname{Dx_{m}}{\\left(t \\right)} + \\frac{d}{d t} \\operatorname{x_{m}}{\\left(t \\right)}\\\\- \\operatorname{Dx_{d}}{\\left(t \\right)} + \\frac{d}{d t} \\operatorname{x_{d}}{\\left(t \\right)}\\\\- \\operatorname{Dx_{m}}{\\left(t \\right)} + \\operatorname{v_{m}}{\\left(t \\right)}\\\\- \\operatorname{Dx_{d}}{\\left(t \\right)} + \\operatorname{v_{d}}{\\left(t \\right)}\\end{matrix}\\right]$"
      ],
      "text/plain": [
       "Matrix([\n",
       "[m*Derivative(v_m(t), t) - f_m(t)],\n",
       "[-Dx_m(t) + Derivative(x_m(t), t)],\n",
       "[-Dx_d(t) + Derivative(x_d(t), t)],\n",
       "[               -Dx_m(t) + v_m(t)],\n",
       "[               -Dx_d(t) + v_d(t)]])"
      ]
     },
     "execution_count": 8,
     "metadata": {},
     "output_type": "execute_result"
    }
   ],
   "source": [
    "F = Matrix([\n",
    "    m*diff(vm) - fm,\n",
    "    diff(xm) - Dxm,\n",
    "    diff(xd) - Dxd,\n",
    "    vm - Dxm,\n",
    "    vd - Dxd,\n",
    "    d*vd - fd,\n",
    "    k*xk - fk,\n",
    "    xd - xm,\n",
    "    xk - xm,\n",
    "    \n",
    "    \n",
    "])\n",
    "F"
   ]
  },
  {
   "cell_type": "code",
   "execution_count": null,
   "metadata": {},
   "outputs": [],
   "source": []
  }
 ],
 "metadata": {
  "kernelspec": {
   "display_name": "Python 3",
   "language": "python",
   "name": "python3"
  },
  "language_info": {
   "codemirror_mode": {
    "name": "ipython",
    "version": 3
   },
   "file_extension": ".py",
   "mimetype": "text/x-python",
   "name": "python",
   "nbconvert_exporter": "python",
   "pygments_lexer": "ipython3",
   "version": "3.6.8"
  }
 },
 "nbformat": 4,
 "nbformat_minor": 2
}
